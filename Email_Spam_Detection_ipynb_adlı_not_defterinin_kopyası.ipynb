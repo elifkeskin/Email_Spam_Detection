{
  "nbformat": 4,
  "nbformat_minor": 0,
  "metadata": {
    "colab": {
      "provenance": []
    },
    "kernelspec": {
      "name": "python3",
      "display_name": "Python 3"
    },
    "language_info": {
      "name": "python"
    }
  },
  "cells": [
    {
      "cell_type": "code",
      "execution_count": 1,
      "metadata": {
        "id": "SQqkWNEBXGd4"
      },
      "outputs": [],
      "source": [
        "import pandas as pd\n",
        "import numpy as np\n",
        "import matplotlib.pyplot as plt\n",
        "from tensorflow.keras.preprocessing.text import Tokenizer\n",
        "from tensorflow.keras.preprocessing.sequence import pad_sequences\n",
        "from tensorflow.keras.models import Sequential\n",
        "from tensorflow.keras.layers import Embedding, LSTM, Dense, SpatialDropout1D\n",
        "from sklearn.model_selection import train_test_split\n",
        "from sklearn.preprocessing import LabelEncoder\n"
      ]
    },
    {
      "cell_type": "markdown",
      "source": [
        "\"message\":[\n",
        "            \"Free entry in 2 a wkly comp to win FA Cup final tkts 21st May 2005. \",\n",
        "            \"Nah I don't think he goes to usf, he lives around here though.\",\n",
        "            \"FreeMsg Hey there darling it's been 3 week's now and no word back!\",\n",
        "            \"Even my brother is not like to speak with me.They treat me like aids patent.\",\n",
        "            \"WINNER!! As a valued network customer you have been selected to receivea €900 prize reward!\"\n",
        "],\n",
        "    \n",
        "\"label\":[\"spam\", \"ham\", \"spam\", \"ham\", \"spam\"]"
      ],
      "metadata": {
        "id": "FRSgbKc61FFa"
      }
    },
    {
      "cell_type": "code",
      "source": [
        "data = {\n",
        "    \"message\":[\n",
        "            \"Free entry in 2 a wkly comp to win FA Cup final tkts 21st May 2005. \",\n",
        "            \"Nah I don't think he goes to usf, he lives around here though.\",\n",
        "            \"FreeMsg Hey there darling it's been 3 week's now and no word back!\",\n",
        "            \"Even my brother is not like to speak with me.They treat me like aids patent.\",\n",
        "            \"WINNER!! As a valued network customer you have been selected to receivea €900 prize reward!\"\n",
        "],\n",
        "\n",
        "\"label\":[\"spam\", \"ham\", \"spam\", \"ham\", \"spam\"]\n",
        "\n",
        "}\n",
        "\n",
        "df = pd.DataFrame(data)"
      ],
      "metadata": {
        "id": "HLgol3lIxl3q"
      },
      "execution_count": 2,
      "outputs": []
    },
    {
      "cell_type": "markdown",
      "source": [
        "## **Seperating Messages and Labels**"
      ],
      "metadata": {
        "id": "yml32cTraiBn"
      }
    },
    {
      "cell_type": "code",
      "source": [
        "messages = df[\"message\"].values\n",
        "labels = df[\"label\"].values"
      ],
      "metadata": {
        "id": "DDM_b7MRYaiT"
      },
      "execution_count": 3,
      "outputs": []
    },
    {
      "cell_type": "markdown",
      "source": [
        "## **Label Encoding**"
      ],
      "metadata": {
        "id": "PJUI5ZGqaVFx"
      }
    },
    {
      "cell_type": "code",
      "source": [
        "label_encoder = LabelEncoder()\n",
        "labels = label_encoder.fit_transform(labels)"
      ],
      "metadata": {
        "id": "8Cc1m3kJZtCC"
      },
      "execution_count": 4,
      "outputs": []
    },
    {
      "cell_type": "markdown",
      "source": [
        "## **Tokenize & Padding**"
      ],
      "metadata": {
        "id": "tc97mvvOawDg"
      }
    },
    {
      "cell_type": "code",
      "source": [
        "tokenizer = Tokenizer(num_words=5000)\n",
        "tokenizer.fit_on_texts(messages)\n",
        "X = tokenizer.texts_to_sequences(messages)\n",
        "X = pad_sequences(X)"
      ],
      "metadata": {
        "id": "BTaGPGAeaMei"
      },
      "execution_count": 5,
      "outputs": []
    },
    {
      "cell_type": "markdown",
      "source": [
        "## **Splitting into Training and Test Sets**"
      ],
      "metadata": {
        "id": "fdp7dCXCdxMh"
      }
    },
    {
      "cell_type": "code",
      "source": [
        "X_train, X_test, y_train, y_test = train_test_split(X, labels, test_size=0.2, random_state=42)"
      ],
      "metadata": {
        "id": "hrR4S1AYaM9f"
      },
      "execution_count": 6,
      "outputs": []
    },
    {
      "cell_type": "markdown",
      "source": [
        "##  **Creating a LSTM Model**"
      ],
      "metadata": {
        "id": "m7v0u8vne8LC"
      }
    },
    {
      "cell_type": "code",
      "source": [
        "model = Sequential()\n",
        "model.add(Embedding(input_dim=5000, output_dim=128, input_length=X.shape[1]))\n",
        "model.add(SpatialDropout1D(0.2))\n",
        "model.add(LSTM(100, dropout=0.2, recurrent_dropout=0.2))\n",
        "model.add(Dense(1,activation=\"sigmoid\"))\n"
      ],
      "metadata": {
        "id": "fnlf_AwneoY7",
        "colab": {
          "base_uri": "https://localhost:8080/"
        },
        "outputId": "a933ca11-cf51-477e-9f31-97f0304f20fe"
      },
      "execution_count": 7,
      "outputs": [
        {
          "output_type": "stream",
          "name": "stderr",
          "text": [
            "/usr/local/lib/python3.10/dist-packages/keras/src/layers/core/embedding.py:90: UserWarning: Argument `input_length` is deprecated. Just remove it.\n",
            "  warnings.warn(\n"
          ]
        }
      ]
    },
    {
      "cell_type": "markdown",
      "source": [
        "## **Model Compilation**"
      ],
      "metadata": {
        "id": "Rg0HNUaHHPas"
      }
    },
    {
      "cell_type": "code",
      "source": [
        "model.compile(loss=\"binary_crossentropy\", optimizer=\"adam\", metrics=[\"accuracy\"])"
      ],
      "metadata": {
        "id": "pOCXgzHTHSS1"
      },
      "execution_count": 8,
      "outputs": []
    },
    {
      "cell_type": "markdown",
      "source": [
        "## **Model Training**"
      ],
      "metadata": {
        "id": "OarPJQahIae9"
      }
    },
    {
      "cell_type": "code",
      "source": [
        "history = model.fit(X_train, y_train, epochs=5, batch_size=32, validation_data=(X_test,y_test), verbose=2)"
      ],
      "metadata": {
        "colab": {
          "base_uri": "https://localhost:8080/"
        },
        "id": "mzNpRklUIcZN",
        "outputId": "031f0185-ed38-4800-ee83-b6bafa08d6d0"
      },
      "execution_count": 9,
      "outputs": [
        {
          "output_type": "stream",
          "name": "stdout",
          "text": [
            "Epoch 1/5\n",
            "1/1 - 5s - 5s/step - accuracy: 0.7500 - loss: 0.6890 - val_accuracy: 0.0000e+00 - val_loss: 0.6971\n",
            "Epoch 2/5\n",
            "1/1 - 0s - 174ms/step - accuracy: 1.0000 - loss: 0.6819 - val_accuracy: 0.0000e+00 - val_loss: 0.7042\n",
            "Epoch 3/5\n",
            "1/1 - 0s - 288ms/step - accuracy: 0.7500 - loss: 0.6711 - val_accuracy: 0.0000e+00 - val_loss: 0.7118\n",
            "Epoch 4/5\n",
            "1/1 - 0s - 112ms/step - accuracy: 1.0000 - loss: 0.6599 - val_accuracy: 0.0000e+00 - val_loss: 0.7206\n",
            "Epoch 5/5\n",
            "1/1 - 0s - 191ms/step - accuracy: 1.0000 - loss: 0.6392 - val_accuracy: 0.0000e+00 - val_loss: 0.7309\n"
          ]
        }
      ]
    },
    {
      "cell_type": "markdown",
      "source": [
        "## **Model Visualization**"
      ],
      "metadata": {
        "id": "qVOgzwjjKf_u"
      }
    },
    {
      "cell_type": "code",
      "source": [
        "# Visualization of training loss\n",
        "\n",
        "plt.plot(history.history[\"loss\"], label=\"Training Loss\")\n",
        "plt.plot(history.history[\"val_loss\"], label=\"Accuracy loss\")\n",
        "plt.title(\"Model Loss\")\n",
        "plt.xlabel(\"Epoch\")\n",
        "plt.ylabel(\"Loss\")\n",
        "plt.legend()\n",
        "plt.show()\n",
        "\n",
        "# Visualization of Training Accuracy\n",
        "\n",
        "plt.plot(history.history[\"accuracy\"], label=\"Training Accuracy\")\n",
        "plt.plot(history.history[\"val_accuracy\"], label=\"Validation Accuracy\")\n",
        "plt.title(\"Model Accuracy\")\n",
        "plt.xlabel(\"Accuracy\")\n",
        "plt.ylabel(\"Epoch\")\n",
        "plt.legend()\n",
        "plt.show()\n"
      ],
      "metadata": {
        "colab": {
          "base_uri": "https://localhost:8080/",
          "height": 927
        },
        "id": "ZujH8trvL6WO",
        "outputId": "c1bdad80-6f6d-4bbe-dd46-2cffb4ed9cb5"
      },
      "execution_count": 10,
      "outputs": [
        {
          "output_type": "display_data",
          "data": {
            "text/plain": [
              "<Figure size 640x480 with 1 Axes>"
            ],
            "image/png": "[encoded data removed]"
          },
          "metadata": {}
        },
        {
          "output_type": "display_data",
          "data": {
            "text/plain": [
              "<Figure size 640x480 with 1 Axes>"
            ],
            "image/png": "[encoded data removed]"
          },
          "metadata": {}
        }
      ]
    },
    {
      "cell_type": "markdown",
      "source": [
        "### **Graph Interpretation**\n",
        "\n",
        "**First Graph Interpretation**\n",
        "\n",
        "In the \"Model loss\" graph, we can see the missing values ​​on the training data. We  obtain a graph showing how well the model fits the training system.\n",
        "\n",
        "**Training Loss**: In the graph, we can see that the training loss decreases as the number of epochs increases. This tells us that the model learns by reducing its error in the training data.\n",
        "\n",
        "**Accuracy Loss**: We can see the performance of the model on new data in the missing values ​​on the data.\n",
        "\n",
        "We can see that the validation loss also decreases initially, but then starts to increase at a certain point. This increase tells us that the model is starting to overfit..\n",
        "\n",
        "**Second Graph Interpretation**\n",
        "\n",
        "\n",
        "In the “Model accuracy” graph, our accuracy on the training data tells the classification success of the model on the training data.\n",
        "\n",
        "**Training Accuracy**:The graph shows that the training accuracy increases as the number of epochs increases. This shows us that the performance of the model on the training data is improving.\n",
        "\n",
        "**Validation Accuracy**: Accuracies on validation data indicate the model's classification success on new data.\n",
        "\n",
        "We can say that the verification accuracy initially increases but after a certain point it either plateaus or decreases.\n",
        "\n"
      ],
      "metadata": {
        "id": "MWcEV3-qPuna"
      }
    },
    {
      "cell_type": "markdown",
      "source": [
        "## **Guessing with New Messages**"
      ],
      "metadata": {
        "id": "R1dpEc-9VXAH"
      }
    },
    {
      "cell_type": "code",
      "source": [
        "new_messages = [\"Congratulations!You've won a free ticket to Bahamas.\",\n",
        "                \"Can we meet tomorrow for coffee?\"]\n",
        "\n",
        "new_messages_seq = tokenizer.texts_to_sequences(new_messages)\n",
        "new_messages_padded = pad_sequences(new_messages_seq, maxlen=X.shape[1])\n",
        "\n",
        "# Making prediction\n",
        "predictions = model.predict(new_messages_padded)\n",
        "predictions = [1 if p > 0.5 else 0 for p in predictions]\n",
        "\n",
        "# Writing prediction\n",
        "\n",
        "for i, message in enumerate(new_messages):\n",
        "  print(f\"Message:{message} - Prediction : {'Spam' if predictions[i]==1 else 'Ham'}\")\n"
      ],
      "metadata": {
        "colab": {
          "base_uri": "https://localhost:8080/"
        },
        "id": "ItRBe87zVWhA",
        "outputId": "bf72cdb3-7150-4790-e446-0857f828d5a0"
      },
      "execution_count": 11,
      "outputs": [
        {
          "output_type": "stream",
          "name": "stdout",
          "text": [
            "\u001b[1m1/1\u001b[0m \u001b[32m━━━━━━━━━━━━━━━━━━━━\u001b[0m\u001b[37m\u001b[0m \u001b[1m0s\u001b[0m 362ms/step\n",
            "Message:Congratulations!You've won a free ticket to Bahamas. - Prediction : Spam\n",
            "Message:Can we meet tomorrow for coffee? - Prediction : Spam\n"
          ]
        }
      ]
    },
    {
      "cell_type": "markdown",
      "source": [
        "**The comment**\n",
        "\n",
        "* We can say that guessed the message in the first sentence correctly.\n",
        "* We can say that may have guessed the message in the second sentence incorrectly due to overfitting."
      ],
      "metadata": {
        "id": "8lq16UyzdMi7"
      }
    }
  ]
}